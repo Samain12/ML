{
 "cells": [
  {
   "cell_type": "code",
   "execution_count": null,
   "metadata": {
    "collapsed": true
   },
   "outputs": [],
   "source": [
    "import pandas as pd\n",
    "import numpy as np\n",
    "import math\n",
    "from sklearn.model_selection import train_test_split\n",
    "from sklearn.metrics import mean_absolute_error as mae, mean_squared_error as mse, make_scorer\n",
    "from sklearn.ensemble import RandomForestRegressor, GradientBoostingRegressor\n",
    "from sklearn.preprocessing import minmax_scale\n",
    "from sklearn.feature_selection import RFE\n",
    "from math import pi, floor\n",
    "\n",
    "%matplotlib inline"
   ]
  },
  {
   "cell_type": "markdown",
   "metadata": {},
   "source": [
    "### Выгружаем базу"
   ]
  },
  {
   "cell_type": "code",
   "execution_count": null,
   "metadata": {
    "collapsed": true
   },
   "outputs": [],
   "source": [
    "train = pd.read_csv('train.csv')\n",
    "train = pd.concat([train[train.price <=math.exp(13.81)],train[train.price>=math.exp(13.82)]])\n",
    "test = pd.read_csv('test.csv')\n",
    "train_price = train[['price']].reset_index(drop=True)\n",
    "idt = test[['id']]\n",
    "df = pd.concat([train.iloc[:,:-1],test], ignore_index = True)\n",
    "del df['id']"
   ]
  },
  {
   "cell_type": "markdown",
   "metadata": {},
   "source": [
    "### Разбиваем дату"
   ]
  },
  {
   "cell_type": "code",
   "execution_count": null,
   "metadata": {
    "collapsed": true
   },
   "outputs": [],
   "source": [
    "month = pd.DataFrame([month.split('-')[1] for month in df.date], columns = ['month']).astype(int)\n",
    "del df['date']\n",
    "df = pd.concat([month,df.iloc[:,0:]], axis = 1)"
   ]
  },
  {
   "cell_type": "code",
   "execution_count": null,
   "metadata": {
    "collapsed": true
   },
   "outputs": [],
   "source": [
    "df.area = np.log(np.log(df.area))"
   ]
  },
  {
   "cell_type": "markdown",
   "metadata": {},
   "source": [
    "### Заменяем NaN"
   ]
  },
  {
   "cell_type": "code",
   "execution_count": null,
   "metadata": {
    "collapsed": true
   },
   "outputs": [],
   "source": [
    "df['build_tech'] = df['build_tech'].replace(np.nan,df.build_tech.median())\n",
    "df['metro_dist'] = df['metro_dist'].replace(np.nan,df.metro_dist.mean())\n",
    "df['g_lift'] = df['g_lift'].replace(np.nan,df.g_lift.median())"
   ]
  },
  {
   "cell_type": "markdown",
   "metadata": {},
   "source": [
    "### One hot encoding и масштабирование"
   ]
  },
  {
   "cell_type": "code",
   "execution_count": null,
   "metadata": {
    "collapsed": true
   },
   "outputs": [],
   "source": [
    "names = ['area','rooms','balcon','metro_dist']\n",
    "df[names] = minmax_scale(df[names].astype(float))\n",
    "df = pd.concat([pd.get_dummies(df['g_lift'], prefix = 'g_lift'),df], axis = 1)\n",
    "del df['g_lift']\n",
    "df = pd.concat([pd.get_dummies(df['street_id'], prefix = 'street_id'),df], axis = 1)\n",
    "del df['street_id']\n",
    "df = pd.concat([pd.get_dummies(df['floor'], prefix = 'floor'),df], axis = 1)\n",
    "del df['floor']\n",
    "df = pd.concat([pd.get_dummies(df['build_tech'], prefix = 'build_tech'),df], axis = 1)\n",
    "del df['build_tech']\n",
    "df.month.replace(range(1,13),[0,0,1,1,1,2,2,2,3,3,3,0], inplace=True)\n",
    "df = pd.concat([pd.get_dummies(df['month'], prefix = 'month'),df], axis = 1)\n",
    "del df['month']\n",
    "df.n_photos.replace(range(0,12),[0,0,0,0,1,1,1,1,2,2,2,2], inplace=True)\n",
    "df = pd.concat([pd.get_dummies(df['n_photos'], prefix = 'n_photos'),df], axis = 1)\n",
    "del df['n_photos']"
   ]
  },
  {
   "cell_type": "markdown",
   "metadata": {},
   "source": [
    "### Формируем train и test"
   ]
  },
  {
   "cell_type": "code",
   "execution_count": null,
   "metadata": {
    "collapsed": true
   },
   "outputs": [],
   "source": [
    "train = pd.concat([df.iloc[:96041,:],train_price], axis = 1)\n",
    "test = df.iloc[96041:,:]\n",
    "k=0.8\n",
    "X_train, X_test, y_train, y_test = train.iloc[:floor(k*96041),:-1], train.iloc[floor(k*96041):,:-1], train.iloc[:floor(k*96041),-1:], train.iloc[floor(k*96041):,-1:]"
   ]
  },
  {
   "cell_type": "code",
   "execution_count": null,
   "metadata": {},
   "outputs": [],
   "source": [
    "gbr = GradientBoostingRegressor(loss = 'huber', subsample = 0.9, learning_rate = 0.01, max_depth = 3, n_estimators = 2000, verbose = 1, random_state = 7)\n",
    "gbr.fit(X_train,np.ravel(y_train))\n",
    "print('Gradient Boosting Regressor MAE = ' + str(mae(gbr.predict(X_test),y_test)))"
   ]
  },
  {
   "cell_type": "markdown",
   "metadata": {},
   "source": [
    "### Финальное предсказание"
   ]
  },
  {
   "cell_type": "code",
   "execution_count": null,
   "metadata": {
    "collapsed": true
   },
   "outputs": [],
   "source": [
    "X_train, y_train = train.iloc[:,:-1], train.iloc[:,-1]\n",
    "gbr = GradientBoostingRegressor(loss = 'huber', subsample = 0.9, learning_rate = 0.01, max_depth = 6, n_estimators = 5000, verbose = 1, random_state = 7)\n",
    "gbr.fit(X_train,np.ravel(y_train))\n",
    "pred = pd.DataFrame(gbr.predict(test), columns = ['price'])\n",
    "#idt = pd.DataFrame(idt)\n",
    "subm = pd.concat([idt,pred], axis = 1)\n",
    "subm.to_csv('submit.csv', index = False)"
   ]
  }
 ],
 "metadata": {
  "kernelspec": {
   "display_name": "Python 3",
   "language": "python",
   "name": "python3"
  },
  "language_info": {
   "codemirror_mode": {
    "name": "ipython",
    "version": 3
   },
   "file_extension": ".py",
   "mimetype": "text/x-python",
   "name": "python",
   "nbconvert_exporter": "python",
   "pygments_lexer": "ipython3",
   "version": "3.6.1"
  }
 },
 "nbformat": 4,
 "nbformat_minor": 2
}
